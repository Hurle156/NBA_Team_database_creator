{
 "cells": [
  {
   "cell_type": "code",
   "execution_count": null,
   "metadata": {},
   "outputs": [],
   "source": [
    "#import packages for scraping and cleaning the data\n",
    "import pandas as pd\n",
    "import requests\n",
    "from splinter import Browser"
   ]
  },
  {
   "cell_type": "code",
   "execution_count": null,
   "metadata": {},
   "outputs": [],
   "source": [
    "#open browser that will find the correct pages to scrape.\n",
    "#you will need to change the chromedriver location to match your computer.\n",
    "executable_path = {'executable_path': '/bin/chromedriver.exe'}\n",
    "browser = Browser('chrome', **executable_path, headless = True)"
   ]
  },
  {
   "cell_type": "code",
   "execution_count": null,
   "metadata": {},
   "outputs": [],
   "source": [
    "#gives place to pick the team you want to create a database for\n",
    "#you can use partial City or Team names this is case sensitive for now\n",
    "print(\"Enter a NBA Team Name or City\")\n",
    "team = input()"
   ]
  },
  {
   "cell_type": "code",
   "execution_count": null,
   "metadata": {},
   "outputs": [],
   "source": [
    "#Creates the dataframe we will store the teams data in. this line isn't actually neccesary.\n",
    "team_df = pd.DataFrame()"
   ]
  },
  {
   "cell_type": "code",
   "execution_count": null,
   "metadata": {},
   "outputs": [],
   "source": [
    "#loads in first url to visit with a list of links to all NBA teams past and present\n",
    "browser.visit(f'https://www.basketball-reference.com/teams/')\n",
    "#this is so we can have the full team name in the database name.\n",
    "Full_Team = browser.links.find_by_partial_text(team).first.text\n",
    "Team_Name = Full_Team.split(\" \")[1]\n"
   ]
  },
  {
   "cell_type": "code",
   "execution_count": null,
   "metadata": {},
   "outputs": [],
   "source": [
    "#Clicks the link for the team you picked when asked for input\n",
    "browser.links.find_by_partial_text(Full_Team).click()\n"
   ]
  },
  {
   "cell_type": "code",
   "execution_count": null,
   "metadata": {},
   "outputs": [],
   "source": [
    "#scrapes the website the browser is currently opened on for tables of data\n",
    "team_table = pd.read_html(browser.html)\n",
    "#selects which table we want to become the dataframe we created earlier\n",
    "team_df = team_table[0]\n"
   ]
  },
  {
   "cell_type": "code",
   "execution_count": null,
   "metadata": {},
   "outputs": [],
   "source": [
    "#team_df.dtypes"
   ]
  },
  {
   "cell_type": "code",
   "execution_count": null,
   "metadata": {},
   "outputs": [],
   "source": [
    "#cleans the newly scraped table and creates an column that will be used as a foriegn key later \n",
    "team_df = team_df.drop(columns=[\"Lg\",  \"Unnamed: 8\", \"Unnamed: 15\", \"Top WS\", \"SRS\", \"Rel Pace\", \"ORtg\", \"Rel ORtg\",\n",
    "                               \"DRtg\", \"Rel DRtg\"])\n",
    "team_df.drop(team_df[team_df['Season'] == 'Season'].index, inplace = True)\n",
    "team_df = team_df.reset_index(drop=False)\n",
    "team_df = team_df.rename(columns = {\"index\":\"Season_Id\", \"W/L%\":\"Win_Pct\"})"
   ]
  },
  {
   "cell_type": "code",
   "execution_count": null,
   "metadata": {},
   "outputs": [],
   "source": [
    "#resets the browser to the originaly site, this helps limit some errors down the line\n",
    "browser.visit(f'https://www.basketball-reference.com/teams/')\n"
   ]
  },
  {
   "cell_type": "code",
   "execution_count": null,
   "metadata": {},
   "outputs": [],
   "source": [
    "#same as above just here to limit errors\n",
    "browser.links.find_by_partial_text(Full_Team).click()\n"
   ]
  },
  {
   "cell_type": "code",
   "execution_count": null,
   "metadata": {},
   "outputs": [],
   "source": [
    "#creates dataframes for roster and season stat, these need to be created outside the for loop below\n",
    "All_Players = pd.DataFrame() \n",
    "Season_totals = pd.DataFrame()"
   ]
  },
  {
   "cell_type": "code",
   "execution_count": null,
   "metadata": {},
   "outputs": [],
   "source": [
    "#finds the number of seasons the for loop will need to iterate through\n",
    "seasons = team_df[\"Season\"].count()\n"
   ]
  },
  {
   "cell_type": "code",
   "execution_count": null,
   "metadata": {},
   "outputs": [],
   "source": [
    "#find the first year of the franchises history so we can find the correct link\n",
    "year1 = team_df.iloc[-2]['Season']\n",
    "Syear = year1.split('-')[0]"
   ]
  },
  {
   "cell_type": "code",
   "execution_count": null,
   "metadata": {},
   "outputs": [],
   "source": [
    "#for loop that will scrape each season for which ever team you selected\n",
    "for y in range(seasons):\n",
    "    #again so we can find the correct link\n",
    "    year = int(Syear) + y\n",
    "    #helps us track where issues may have arisen if we get an error\n",
    "    print(year)\n",
    "    #selects the link that will take we will need to scrape data from for each individual season\n",
    "    browser.links.find_by_partial_href(f'/{year}.html').click()\n",
    "    #scrapes the table for the current year of the iteration\n",
    "    roster_table = pd.read_html(browser.html)\n",
    "    #selects the roster table \n",
    "    Roster = roster_table[0]\n",
    "    #if else statement needed as the current year has on additional table on the website for currently injured players\n",
    "    if year == 2021:\n",
    "        totals = roster_table[6]\n",
    "        totals['year'] = year\n",
    "    else:\n",
    "        totals = roster_table[5]\n",
    "        totals['year'] = year\n",
    "    #adds the current iterations data to the dataframes we created earlier\n",
    "    All_Players = pd.concat([All_Players, Roster])\n",
    "    Season_totals = pd.concat([Season_totals, totals])\n"
   ]
  },
  {
   "cell_type": "code",
   "execution_count": null,
   "metadata": {},
   "outputs": [],
   "source": [
    "#closes browser since we have scraped all of the data we will be using\n",
    "browser.quit()"
   ]
  },
  {
   "cell_type": "code",
   "execution_count": null,
   "metadata": {
    "scrolled": true
   },
   "outputs": [],
   "source": [
    "#drops any duplicate players so each player only has one instance on this table.\n",
    "All_Players = All_Players.drop_duplicates(subset=[\"Player\"])\n",
    "#resets the index and creates an ID column we can use for a foreign key later\n",
    "All_Players = All_Players.reset_index(drop=True)\n",
    "All_Players = All_Players.reset_index(drop=False)"
   ]
  },
  {
   "cell_type": "code",
   "execution_count": null,
   "metadata": {},
   "outputs": [],
   "source": [
    "#Season_totals.dtypes"
   ]
  },
  {
   "cell_type": "code",
   "execution_count": null,
   "metadata": {},
   "outputs": [],
   "source": [
    "#cleans data so we have good column names and no unneccesary columns\n",
    "All_Players = All_Players.rename(columns = {\"Unnamed: 6\":\"Country\", \"index\":\"Player_Id\", \"Birth Date\":\"Birth_Date\", \"No.\":\"Num\"})\n",
    "All_Players = All_Players.drop(columns = [\"Exp\"])"
   ]
  },
  {
   "cell_type": "code",
   "execution_count": null,
   "metadata": {},
   "outputs": [],
   "source": [
    "#create dataframes that will allow us to add foreign keys to Season_Totals dataframe\n",
    "Player_Ids = All_Players[{\"Player_Id\", \"Player\"}]\n",
    "Season_Ids = team_df[{\"Season\",\"Season_Id\"}]\n"
   ]
  },
  {
   "cell_type": "code",
   "execution_count": null,
   "metadata": {},
   "outputs": [],
   "source": [
    "#cleans data and resets index also removes summary rows\n",
    "Season_totals = Season_totals.reset_index(drop =True)\n",
    "Season_totals = Season_totals.rename(columns = {\"Unnamed: 1\":\"Player\", \"3P\": \"Three\", \"3PA\": \"ThreeA\", \n",
    "                                                \"2P\":\"Two\", \"2PA\":\"TwoA\"})\n",
    "Season_totals.drop(Season_totals[Season_totals['Player'] == 'Team Totals'].index, inplace=True)\n",
    "Season_totals = Season_totals.drop(columns = [\"Rk\", \"FG%\", \"3P%\", \"2P%\", \"eFG%\", \"FT%\", \"TRB\"])"
   ]
  },
  {
   "cell_type": "code",
   "execution_count": null,
   "metadata": {},
   "outputs": [],
   "source": [
    "#Splits up the season row so that it is no longer formatted as yyyy-yy\n",
    "Season_Ids[['year', 'Season_e']] = Season_Ids.Season.str.split(\"-\",expand = True)"
   ]
  },
  {
   "cell_type": "code",
   "execution_count": null,
   "metadata": {},
   "outputs": [],
   "source": [
    "#changes variable type to we can make it easier to merge with another dataframe\n",
    "Season_Ids['year'] =Season_Ids['year'].astype('int64')\n"
   ]
  },
  {
   "cell_type": "code",
   "execution_count": null,
   "metadata": {},
   "outputs": [],
   "source": [
    "#Adds one to the year column so it will match with the column from another dataframe\n",
    "Season_Ids['year'] +=1\n"
   ]
  },
  {
   "cell_type": "code",
   "execution_count": null,
   "metadata": {},
   "outputs": [],
   "source": [
    "#adds season id #s to Season_Totals column\n",
    "Season_Totals = pd.merge(Season_totals, Season_Ids, on = ['year', 'year'])"
   ]
  },
  {
   "cell_type": "code",
   "execution_count": null,
   "metadata": {},
   "outputs": [],
   "source": [
    "#adds player id #s to Season_Total column\n",
    "Season_Totals = pd.merge(Season_Totals, Player_Ids, on = ['Player', 'Player'])"
   ]
  },
  {
   "cell_type": "code",
   "execution_count": null,
   "metadata": {},
   "outputs": [],
   "source": [
    "#Drops any unneccesary columns so there will be no duplicate info in the entire data base\n",
    "Season_Totals = Season_Totals.drop(columns=[\"Player\",  \"year\", \"Season\", \"Season_e\"])"
   ]
  },
  {
   "cell_type": "code",
   "execution_count": null,
   "metadata": {},
   "outputs": [],
   "source": [
    "#team_df.dtypes"
   ]
  },
  {
   "cell_type": "code",
   "execution_count": null,
   "metadata": {},
   "outputs": [],
   "source": [
    "from sqlalchemy import create_engine\n",
    "from sqlalchemy.ext.declarative import declarative_base\n",
    "from sqlalchemy import Column, Integer, String, Float"
   ]
  },
  {
   "cell_type": "code",
   "execution_count": null,
   "metadata": {},
   "outputs": [],
   "source": [
    "base = declarative_base()"
   ]
  },
  {
   "cell_type": "code",
   "execution_count": null,
   "metadata": {},
   "outputs": [],
   "source": [
    "class Team_Stats(base):\n",
    "    __tablename__ = \"Team_Stats\"\n",
    "    Season_Id = Column(Integer, primary_key = True)\n",
    "    Season = Column(String(7))\n",
    "    Team = Column(String(50))\n",
    "    W = Column(String(3))\n",
    "    L = Column(String(3))\n",
    "    Win_Pct = Column(String(8))\n",
    "    Pace = Column(String(8))\n",
    "    Finish = Column(String(15))\n",
    "    Playoffs = Column(String(100))\n",
    "    Coaches = Column(String(100))\n",
    "    \n",
    "\n",
    "    "
   ]
  },
  {
   "cell_type": "code",
   "execution_count": null,
   "metadata": {},
   "outputs": [],
   "source": [
    "#Season_Totals.dtypes"
   ]
  },
  {
   "cell_type": "code",
   "execution_count": null,
   "metadata": {},
   "outputs": [],
   "source": [
    "class Player_Stats(base):\n",
    "    __tablename__ = \"Player_Stats\"\n",
    "    Id = Column(Integer, primary_key = True)\n",
    "    Player_Id = Column(Integer)\n",
    "    Season_Id = Column(Integer)\n",
    "    Age = Column(Integer)\n",
    "    G = Column(Integer)\n",
    "    GS = Column(Integer)\n",
    "    MP = Column(Integer)\n",
    "    FG = Column(Integer)\n",
    "    FGA = Column(Integer)\n",
    "    Three = Column(Integer)\n",
    "    ThreeA = Column(Integer)\n",
    "    Two = Column(Integer)\n",
    "    TwoA = Column(Integer)\n",
    "    FT = Column(Integer)\n",
    "    FTA = Column(Integer)\n",
    "    ORB = Column(Integer)\n",
    "    DRB = Column(Integer)\n",
    "    AST = Column(Integer)\n",
    "    STL = Column(Integer)\n",
    "    BLK = Column(Integer)\n",
    "    TOV = Column(Integer)\n",
    "    PF = Column(Integer)\n",
    "    PTS = Column(Integer)"
   ]
  },
  {
   "cell_type": "code",
   "execution_count": null,
   "metadata": {},
   "outputs": [],
   "source": [
    "#All_Players.dtypes"
   ]
  },
  {
   "cell_type": "code",
   "execution_count": null,
   "metadata": {},
   "outputs": [],
   "source": [
    "class Roster(base):\n",
    "    __tablename__ = \"Roster\"\n",
    "    Player_Id = Column(Integer, primary_key = True)\n",
    "    Num = Column(Integer)\n",
    "    Player = Column(String(100))\n",
    "    Pos = Column(String(25))\n",
    "    Ht = Column(String(10))\n",
    "    Wt = Column(Integer)\n",
    "    Birth_Date = Column(String(20))\n",
    "    Country = Column(String(50))\n",
    "    College = Column(String(200))"
   ]
  },
  {
   "cell_type": "code",
   "execution_count": null,
   "metadata": {},
   "outputs": [],
   "source": [
    "engine =  create_engine(f'sqlite:///data/{Team_Name}.sqlite')\n",
    "conn = engine.connect()"
   ]
  },
  {
   "cell_type": "code",
   "execution_count": null,
   "metadata": {},
   "outputs": [],
   "source": [
    "base.metadata.drop_all(engine)\n",
    "base.metadata.create_all(engine)"
   ]
  },
  {
   "cell_type": "code",
   "execution_count": null,
   "metadata": {},
   "outputs": [],
   "source": [
    "from sqlalchemy.orm import Session"
   ]
  },
  {
   "cell_type": "code",
   "execution_count": null,
   "metadata": {},
   "outputs": [],
   "source": [
    "session = Session(bind = engine)"
   ]
  },
  {
   "cell_type": "code",
   "execution_count": null,
   "metadata": {},
   "outputs": [],
   "source": [
    "All_Players.to_sql(name = \"Roster\", con = engine, if_exists = \"append\", index = False)"
   ]
  },
  {
   "cell_type": "code",
   "execution_count": null,
   "metadata": {},
   "outputs": [],
   "source": [
    "team_df.to_sql(name = \"Team_Stats\", con = engine, if_exists = \"append\", index = False)"
   ]
  },
  {
   "cell_type": "code",
   "execution_count": null,
   "metadata": {},
   "outputs": [],
   "source": [
    "Season_Totals.to_sql(name = \"Player_Stats\", con = engine, if_exists = \"append\", index = False)"
   ]
  },
  {
   "cell_type": "code",
   "execution_count": null,
   "metadata": {},
   "outputs": [],
   "source": []
  }
 ],
 "metadata": {
  "kernelspec": {
   "display_name": "Python 3",
   "language": "python",
   "name": "python3"
  },
  "language_info": {
   "codemirror_mode": {
    "name": "ipython",
    "version": 3
   },
   "file_extension": ".py",
   "mimetype": "text/x-python",
   "name": "python",
   "nbconvert_exporter": "python",
   "pygments_lexer": "ipython3",
   "version": "3.6.9"
  }
 },
 "nbformat": 4,
 "nbformat_minor": 2
}
